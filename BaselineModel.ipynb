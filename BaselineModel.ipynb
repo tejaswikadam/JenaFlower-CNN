{
 "cells": [
  {
   "cell_type": "markdown",
   "metadata": {
    "id": "KFNsAsN_1fFH"
   },
   "source": []
  },
  {
   "cell_type": "code",
   "execution_count": 1,
   "metadata": {
    "colab": {
     "base_uri": "https://localhost:8080/",
     "height": 599
    },
    "id": "03Nv4RMjvK5u",
    "outputId": "f31f9ab2-efe7-44a6-9d7d-a2f41e5470d2"
   },
   "outputs": [
    {
     "name": "stdout",
     "output_type": "stream",
     "text": [
      "Collecting keras\n",
      "  Downloading Keras-2.4.3-py2.py3-none-any.whl (36 kB)\n",
      "Collecting numpy>=1.9.1\n",
      "  Downloading numpy-1.20.0-cp37-cp37m-macosx_10_9_x86_64.whl (16.0 MB)\n",
      "\u001b[K     |████████████████████████████████| 16.0 MB 5.5 MB/s eta 0:00:01\n",
      "\u001b[?25hCollecting pyyaml\n",
      "  Downloading PyYAML-5.4.1-cp37-cp37m-macosx_10_9_x86_64.whl (249 kB)\n",
      "\u001b[K     |████████████████████████████████| 249 kB 39.7 MB/s eta 0:00:01\n",
      "\u001b[?25hCollecting h5py\n",
      "  Downloading h5py-3.1.0-cp37-cp37m-macosx_10_9_x86_64.whl (2.9 MB)\n",
      "\u001b[K     |████████████████████████████████| 2.9 MB 27.4 MB/s eta 0:00:01\n",
      "\u001b[?25hCollecting scipy>=0.14\n",
      "  Downloading scipy-1.6.0-cp37-cp37m-macosx_10_9_x86_64.whl (30.7 MB)\n",
      "\u001b[K     |████████████████████████████████| 30.7 MB 29.9 MB/s eta 0:00:01\n",
      "\u001b[?25hCollecting cached-property; python_version < \"3.8\"\n",
      "  Downloading cached_property-1.5.2-py2.py3-none-any.whl (7.6 kB)\n",
      "Installing collected packages: numpy, pyyaml, cached-property, h5py, scipy, keras\n",
      "Successfully installed cached-property-1.5.2 h5py-3.1.0 keras-2.4.3 numpy-1.20.0 pyyaml-5.4.1 scipy-1.6.0\n"
     ]
    }
   ],
   "source": [
    "!pip install keras -tuner\n",
    "!pip install -q keras"
   ]
  },
  {
   "cell_type": "code",
   "execution_count": 2,
   "metadata": {
    "colab": {
     "base_uri": "https://localhost:8080/",
     "height": 238
    },
    "id": "DmClM_FsvNmd",
    "outputId": "e361e131-a5bb-40cf-db03-8f49c58855c0"
   },
   "outputs": [
    {
     "name": "stdout",
     "output_type": "stream",
     "text": [
      "Collecting gputil\n",
      "  Downloading https://files.pythonhosted.org/packages/ed/0e/5c61eedde9f6c87713e89d794f01e378cfd9565847d4576fa627d758c554/GPUtil-1.4.0.tar.gz\n",
      "Building wheels for collected packages: gputil\n",
      "  Building wheel for gputil (setup.py) ... \u001b[?25l\u001b[?25hdone\n",
      "  Created wheel for gputil: filename=GPUtil-1.4.0-cp36-none-any.whl size=7411 sha256=f4164d0b6e3ea8b2808aef1a6f9d737faa6528c4205f73cd1c6d92f8a8e46880\n",
      "  Stored in directory: /root/.cache/pip/wheels/3d/77/07/80562de4bb0786e5ea186911a2c831fdd0018bda69beab71fd\n",
      "Successfully built gputil\n",
      "Installing collected packages: gputil\n",
      "Successfully installed gputil-1.4.0\n",
      "Requirement already satisfied: psutil in /usr/local/lib/python3.6/dist-packages (5.4.8)\n",
      "Requirement already satisfied: humanize in /usr/local/lib/python3.6/dist-packages (0.5.1)\n",
      "Gen RAM Free: 12.8 GB  | Proc size: 115.1 MB\n",
      "GPU RAM Free: 15079MB | Used: 0MB | Util   0% | Total 15079MB\n"
     ]
    }
   ],
   "source": [
    "# memory footprint support libraries/code\n",
    "\n",
    "!ln -sf /opt/bin/nvidia-smi /usr/bin/nvidia-smi\n",
    "!pip install gputil\n",
    "!pip install psutil\n",
    "!pip install humanize\n",
    "import psutil\n",
    "import humanize\n",
    "import os\n",
    "import GPUtil as GPU\n",
    "GPUs = GPU.getGPUs()\n",
    "\n",
    "# XXX: only one GPU on Colab and isn’t guaranteed\n",
    "\n",
    "gpu = GPUs[0]\n",
    "def printm():\n",
    " process = psutil.Process(os.getpid())\n",
    " print(\"Gen RAM Free: \" + humanize.naturalsize( psutil.virtual_memory().available ), \" | Proc size: \" + humanize.naturalsize( process.memory_info().rss))\n",
    " print(\"GPU RAM Free: {0:.0f}MB | Used: {1:.0f}MB | Util {2:3.0f}% | Total {3:.0f}MB\".format(gpu.memoryFree, gpu.memoryUsed, gpu.memoryUtil*100, gpu.memoryTotal))\n",
    "printm() \n"
   ]
  },
  {
   "cell_type": "code",
   "execution_count": 3,
   "metadata": {
    "id": "Qwr2K-whvXQz"
   },
   "outputs": [],
   "source": [
    "#!ln -sf /opt/bin/nvidia-smi /usr/bin/nvidia-smi\n",
    "#!pip install gputil\n",
    "\n",
    "try:\n",
    "  import GPUtil as GPU\n",
    "  GPUs = GPU.getGPUs()\n",
    "  device='/gpu:0'\n",
    "except:\n",
    "  device='/cpu:0'"
   ]
  },
  {
   "cell_type": "code",
   "execution_count": 4,
   "metadata": {
    "colab": {
     "base_uri": "https://localhost:8080/",
     "height": 34
    },
    "id": "ixTmsXa_vo48",
    "outputId": "cdf28ed8-a881-442c-b511-dcbd88acf18b"
   },
   "outputs": [
    {
     "name": "stdout",
     "output_type": "stream",
     "text": [
      "Found GPU at: /device:GPU:0\n"
     ]
    }
   ],
   "source": [
    "%tensorflow_version 2.x\n",
    "\n",
    "import tensorflow as tf\n",
    "\n",
    "device_name = tf.test.gpu_device_name()\n",
    "if device_name != '/device:GPU:0':\n",
    "  raise SystemError('GPU device not found')\n",
    "print('Found GPU at: {}'.format(device_name))"
   ]
  },
  {
   "cell_type": "code",
   "execution_count": 5,
   "metadata": {
    "colab": {
     "base_uri": "https://localhost:8080/",
     "height": 34
    },
    "id": "dDDPVOU4vuak",
    "outputId": "958cbc0b-0f45-4759-88f9-a2a800bc3797"
   },
   "outputs": [
    {
     "name": "stdout",
     "output_type": "stream",
     "text": [
      "Mounted at /content/drive\n"
     ]
    }
   ],
   "source": [
    "from google.colab import drive\n",
    "drive.mount('/content/drive')"
   ]
  },
  {
   "cell_type": "code",
   "execution_count": 6,
   "metadata": {
    "id": "H0lUBGC6vxzC"
   },
   "outputs": [],
   "source": [
    "# Import all libraries\n",
    "\n",
    "import os\n",
    "import shutil\n",
    "import pandas as pd\n",
    "import numpy as np\n",
    "import tensorflow as tf\n",
    "from tensorflow import keras\n",
    "import matplotlib.pyplot as plt\n",
    "from keras.preprocessing.image import ImageDataGenerator\n",
    "from sklearn.model_selection import train_test_split \n",
    "from tensorflow.keras.models import Sequential\n",
    "from tensorflow.keras.layers import Activation, Dropout, Flatten, Dense, Conv2D, MaxPooling2D\n",
    "from tensorflow.keras.callbacks import EarlyStopping\n",
    "from tensorflow.keras.layers import BatchNormalization"
   ]
  },
  {
   "cell_type": "code",
   "execution_count": null,
   "metadata": {
    "colab": {
     "base_uri": "https://localhost:8080/",
     "height": 54
    },
    "id": "2231rXTSv6XK",
    "outputId": "df2381b4-7415-454c-8039-aa9117d13e1b"
   },
   "outputs": [
    {
     "name": "stdout",
     "output_type": "stream",
     "text": [
      "['tst3.txt', 'val1.txt', 'trn1.txt', 'val2.txt', 'tst1.txt', 'val3.txt', 'tst2.txt', 'trn2.txt', 'trn3.txt', 'classlabels.txt', 'readme.txt', '.DS_Store', 'jpg', 'train', 'test', 'valid']\n"
     ]
    }
   ],
   "source": [
    "# create test, train and validation directory\n",
    "\n",
    "os.chdir('/content/drive/My Drive/JF30-22')\n",
    "if os.path.isdir('train') is False:\n",
    "  os.makedirs('train')\n",
    "  os.makedirs('test')\n",
    "  os.makedirs('valid')\n",
    "\n",
    "print(os.listdir('/content/drive/My Drive/JF30-22'))"
   ]
  },
  {
   "cell_type": "code",
   "execution_count": null,
   "metadata": {
    "id": "jdvAaTdEwAEr"
   },
   "outputs": [],
   "source": [
    "# Move images from image folder to train, test and validation directory according to the trn, tst and val text file.\n",
    "\n",
    "\n",
    "dst = '/content/drive/My Drive/JF30-22/train/'\n",
    "with open('trn1.txt') as my_file:\n",
    "    for filename in my_file:\n",
    "        file_name  = ('JFT_'+ str(filename).zfill(6).rstrip() +'.jpg')\n",
    "        #print(file_name)\n",
    "        src = r'/content/drive/My Drive/JF30-22/jpg/'+ file_name\n",
    "        #print(src)\n",
    "        shutil.move(src, dst)\n",
    "\n",
    "dst = '/content/drive/My Drive/JF30-22/test/'\n",
    "with open('val1.txt') as my_file:\n",
    "    for filename in my_file:\n",
    "        file_name  = ('JFT_'+ str(filename).zfill(6).rstrip() +'.jpg')\n",
    "        #print(file_name)\n",
    "        src = r'/content/drive/My Drive/JF30-22/jpg/'+ file_name\n",
    "        #print(src)\n",
    "        shutil.move(src, dst)\n",
    "\n",
    "dst = '/content/drive/My Drive/JF30-22/test/'\n",
    "with open('tst1.txt') as my_file:\n",
    "    for filename in my_file:\n",
    "        file_name  = ('JFT_'+ str(filename).zfill(6).rstrip() +'.jpg')\n",
    "        #print(file_name)\n",
    "        src = r'/content/drive/My Drive/JF30-22/jpg/'+ file_name\n",
    "        #print(src)\n",
    "        shutil.move(src, dst)"
   ]
  },
  {
   "cell_type": "code",
   "execution_count": null,
   "metadata": {
    "id": "2ZWNsCwgwO_3"
   },
   "outputs": [],
   "source": [
    "# Rename image files inside test, train text files\n",
    "\n",
    "# for train text file\n",
    "with open('trn1.txt','r') as f:\n",
    "    newlines = []\n",
    "    for line in f.readlines():\n",
    "        newlines.append(line.replace(line, 'JFT_'+ str(line).zfill(6).rstrip() + '.jpg'+ \"\\n\"))\n",
    "\n",
    "with open('trn1.txt', 'w') as f:\n",
    "    for line in newlines:\n",
    "        f.write(line) \n",
    "\n",
    "# for test text file\n",
    "with open('tst1.txt','r') as f:\n",
    "    newlines = []\n",
    "    for line in f.readlines():\n",
    "        newlines.append(line.replace(line, 'JFT_'+ str(line).zfill(6).rstrip() + '.jpg'+ \"\\n\"))\n",
    "\n",
    "with open('tst1.txt', 'w') as f:\n",
    "    for line in newlines:\n",
    "        f.write(line) \n",
    "\n",
    "# for valid text file\n",
    "with open('val1.txt','r') as f:\n",
    "    newlines = []\n",
    "    for line in f.readlines():\n",
    "        newlines.append(line.replace(line, 'JFT_'+ str(line).zfill(6).rstrip() + '.jpg'+ \"\\n\"))\n",
    "\n",
    "with open('val1.txt', 'w') as f:\n",
    "    for line in newlines:\n",
    "        f.write(line) \n"
   ]
  },
  {
   "cell_type": "code",
   "execution_count": 7,
   "metadata": {
    "id": "ZwI02HcQw2vD"
   },
   "outputs": [],
   "source": [
    "# reading text files\n",
    "\n",
    "all_df = pd.read_csv(\"/content/drive/My Drive/JF30-22/classlabels.txt\", header = None, dtype=str)\n",
    "all_df.columns = ['id', 'label']\n",
    "#all_df.head(2)\n",
    "\n",
    "trn1 = pd.read_csv('/content/drive/My Drive/JF30-22/trn1.txt', header = None, dtype=str)\n",
    "trn1.columns = ['id']\n",
    "#trn1.head(2)\n",
    "\n",
    "val1 = pd.read_csv('/content/drive/My Drive/JF30-22/val1.txt', header = None, dtype=str)\n",
    "val1.columns = ['id']\n",
    "#trn1.head(2)\n",
    "\n",
    "tst1 = pd.read_csv('/content/drive/My Drive/JF30-22/tst1.txt', header = None, dtype=str)\n",
    "tst1.columns = ['id']\n",
    "#tst1.head(2)"
   ]
  },
  {
   "cell_type": "markdown",
   "metadata": {
    "id": "XMMYb6ExnOja"
   },
   "source": [
    "# Baseline Model"
   ]
  },
  {
   "cell_type": "code",
   "execution_count": 8,
   "metadata": {
    "colab": {
     "base_uri": "https://localhost:8080/",
     "height": 318
    },
    "id": "TVgK76IXxMcq",
    "outputId": "86b096eb-2ae4-422f-911f-11f8956d1ac7"
   },
   "outputs": [
    {
     "name": "stdout",
     "output_type": "stream",
     "text": [
      "Baseline model is: 4.3272481406355645\n"
     ]
    },
    {
     "data": {
      "image/png": "[encoded data removed]",
      "text/plain": [
       "<Figure size 432x288 with 1 Axes>"
      ]
     },
     "metadata": {
      "needs_background": "light",
      "tags": []
     },
     "output_type": "display_data"
    }
   ],
   "source": [
    "Baseline = all_df['label'].value_counts()* 100/len(all_df['label'])\n",
    "print('Baseline model is:', Baseline[6])\n",
    "\n",
    "\n",
    "# checking class labels distribution for baseline\n",
    "# shows class label 6 having maximum count of images\n",
    "\n",
    "all_df.label.value_counts().plot(kind='bar')\n",
    "plt.title('Labels counts')\n",
    "plt.xlabel('Label')\n",
    "plt.ylabel('Count')\n",
    "plt.show()"
   ]
  },
  {
   "cell_type": "code",
   "execution_count": 9,
   "metadata": {
    "id": "SXsJHnUvz2Sf"
   },
   "outputs": [],
   "source": [
    "# merge data (id and label)\n",
    "\n",
    "train_data= pd.merge(all_df, trn1)\n",
    "val_data= pd.merge(all_df, val1)\n",
    "data = pd.merge(all_df, tst1)\n",
    "test_data = data.append(val_data)"
   ]
  },
  {
   "cell_type": "code",
   "execution_count": 10,
   "metadata": {
    "colab": {
     "base_uri": "https://localhost:8080/",
     "height": 111
    },
    "id": "6peq3A5Y0skl",
    "outputId": "6c003077-2202-4370-e4d2-432ed6c20377"
   },
   "outputs": [
    {
     "data": {
      "text/html": [
       "<div>\n",
       "<style scoped>\n",
       "    .dataframe tbody tr th:only-of-type {\n",
       "        vertical-align: middle;\n",
       "    }\n",
       "\n",
       "    .dataframe tbody tr th {\n",
       "        vertical-align: top;\n",
       "    }\n",
       "\n",
       "    .dataframe thead th {\n",
       "        text-align: right;\n",
       "    }\n",
       "</style>\n",
       "<table border=\"1\" class=\"dataframe\">\n",
       "  <thead>\n",
       "    <tr style=\"text-align: right;\">\n",
       "      <th></th>\n",
       "      <th>id</th>\n",
       "      <th>label</th>\n",
       "    </tr>\n",
       "  </thead>\n",
       "  <tbody>\n",
       "    <tr>\n",
       "      <th>0</th>\n",
       "      <td>JFT_00005.jpg</td>\n",
       "      <td>1</td>\n",
       "    </tr>\n",
       "    <tr>\n",
       "      <th>1</th>\n",
       "      <td>JFT_00007.jpg</td>\n",
       "      <td>1</td>\n",
       "    </tr>\n",
       "  </tbody>\n",
       "</table>\n",
       "</div>"
      ],
      "text/plain": [
       "              id label\n",
       "0  JFT_00005.jpg     1\n",
       "1  JFT_00007.jpg     1"
      ]
     },
     "execution_count": 10,
     "metadata": {
      "tags": []
     },
     "output_type": "execute_result"
    }
   ],
   "source": [
    "train_data.head(2)"
   ]
  },
  {
   "cell_type": "code",
   "execution_count": 11,
   "metadata": {
    "id": "FS2OzJXxxsyU"
   },
   "outputs": [],
   "source": [
    "#Training data with augmentation\n",
    "\n",
    "train_datagen = ImageDataGenerator(\n",
    "      rescale=1./255,\n",
    "      rotation_range=20,\n",
    "      width_shift_range=0.10,\n",
    "      height_shift_range=0.10,\n",
    "      zoom_range = 0.1,\n",
    "      brightness_range=[0.2,0.8],\n",
    "     # np.clip(x_channel + np.random.uniform(-value, value), min_img, max_img) for x_channel in img,\n",
    "      horizontal_flip=True,\n",
    "      vertical_flip=True,\n",
    "      fill_mode='nearest')\n",
    "\n",
    "test_datagen = ImageDataGenerator(rescale=1./255)"
   ]
  },
  {
   "cell_type": "code",
   "execution_count": 27,
   "metadata": {
    "colab": {
     "base_uri": "https://localhost:8080/",
     "height": 51
    },
    "id": "oFvbPVzWy6ec",
    "outputId": "bdc4bd99-a122-4e42-e1c8-7ef9265f4801"
   },
   "outputs": [
    {
     "name": "stdout",
     "output_type": "stream",
     "text": [
      "Found 921 validated image filenames belonging to 30 classes.\n",
      "Found 558 validated image filenames belonging to 30 classes.\n"
     ]
    }
   ],
   "source": [
    "# Data Generator for Validation Data\n",
    "\n",
    "train_generator = train_datagen.flow_from_dataframe(\n",
    "    dataframe = train_data, \n",
    "    directory=\"/content/drive/My Drive/JF30-22/train/\",\n",
    "    x_col=\"id\",\n",
    "    y_col=\"label\",\n",
    "    #subset=\"training\",\n",
    "    batch_size=32,\n",
    "    seed=42,\n",
    "    shuffle=True,\n",
    "    class_mode=\"categorical\",\n",
    "    target_size=(64,64))\n",
    "\n",
    "# Data Generator for Validation Data\n",
    "\n",
    "'''val_generator = train_datagen.flow_from_dataframe(\n",
    "    dataframe = val_data, \n",
    "    directory=\"/content/drive/My Drive/JF30-22/valid/\",\n",
    "    x_col=\"id\",\n",
    "    y_col=\"label\",\n",
    "    #subset=\"validation\",\n",
    "    batch_size=32,\n",
    "    seed=42,\n",
    "    shuffle=True,\n",
    "    class_mode=\"categorical\",\n",
    "    target_size=(64,64))'''\n",
    "\n",
    "# Data Generator for Training Data\n",
    "\n",
    "test_generator = test_datagen.flow_from_dataframe(\n",
    "    dataframe = test_data, \n",
    "    directory=\"/content/drive/My Drive/JF30-22/test/\",\n",
    "    x_col=\"id\",\n",
    "    y_col=\"label\",\n",
    "    #subset=\"training\",\n",
    "    batch_size=32,\n",
    "    seed=42,\n",
    "    shuffle=True,\n",
    "    class_mode=\"categorical\",\n",
    "    target_size=(64,64))"
   ]
  },
  {
   "cell_type": "code",
   "execution_count": 28,
   "metadata": {
    "colab": {
     "base_uri": "https://localhost:8080/",
     "height": 459
    },
    "id": "wFACBhFzARhe",
    "outputId": "1b9749d9-14de-46d7-9be5-f21844af8bf0"
   },
   "outputs": [
    {
     "name": "stdout",
     "output_type": "stream",
     "text": [
      "Model: \"sequential_3\"\n",
      "_________________________________________________________________\n",
      "Layer (type)                 Output Shape              Param #   \n",
      "=================================================================\n",
      "conv2d_6 (Conv2D)            (None, 64, 64, 32)        896       \n",
      "_________________________________________________________________\n",
      "dropout_6 (Dropout)          (None, 64, 64, 32)        0         \n",
      "_________________________________________________________________\n",
      "max_pooling2d_6 (MaxPooling2 (None, 32, 32, 32)        0         \n",
      "_________________________________________________________________\n",
      "conv2d_7 (Conv2D)            (None, 32, 32, 32)        9248      \n",
      "_________________________________________________________________\n",
      "max_pooling2d_7 (MaxPooling2 (None, 16, 16, 32)        0         \n",
      "_________________________________________________________________\n",
      "dropout_7 (Dropout)          (None, 16, 16, 32)        0         \n",
      "_________________________________________________________________\n",
      "flatten_3 (Flatten)          (None, 8192)              0         \n",
      "_________________________________________________________________\n",
      "dense_6 (Dense)              (None, 256)               2097408   \n",
      "_________________________________________________________________\n",
      "dense_7 (Dense)              (None, 30)                7710      \n",
      "=================================================================\n",
      "Total params: 2,115,262\n",
      "Trainable params: 2,115,262\n",
      "Non-trainable params: 0\n",
      "_________________________________________________________________\n"
     ]
    }
   ],
   "source": [
    "# Build Model\n",
    "\n",
    "cnn = tf.keras.models.Sequential()\n",
    "cnn.add(tf.keras.layers.Conv2D(filters=32, kernel_size=3, activation='relu', input_shape=[64, 64, 3], padding = 'same'))\n",
    "cnn.add(tf.keras.layers.Dropout(0.5))\n",
    "cnn.add(tf.keras.layers.MaxPool2D(pool_size=2, strides=2))\n",
    "\n",
    "cnn.add(tf.keras.layers.Conv2D(filters=32, kernel_size=3, activation='relu', padding = 'same'))\n",
    "cnn.add(tf.keras.layers.MaxPool2D(pool_size=2, strides=2))\n",
    "cnn.add(tf.keras.layers.Dropout(0.5))\n",
    "\n",
    "\n",
    "cnn.add(tf.keras.layers.Flatten())\n",
    "cnn.add(tf.keras.layers.Dense(units=256, activation='relu'))\n",
    "cnn.add(tf.keras.layers.Dense(units=30, activation='softmax'))\n",
    "cnn.summary()"
   ]
  },
  {
   "cell_type": "code",
   "execution_count": 29,
   "metadata": {
    "id": "001yGIjjbKjC"
   },
   "outputs": [],
   "source": [
    "cnn.compile(optimizer = 'adam', loss = 'categorical_crossentropy', metrics = ['accuracy'])"
   ]
  },
  {
   "cell_type": "code",
   "execution_count": 30,
   "metadata": {
    "colab": {
     "base_uri": "https://localhost:8080/",
     "height": 357
    },
    "id": "dvmaz2ILbgF2",
    "outputId": "584f6d1c-51b3-48af-af4e-2b7eb1228322"
   },
   "outputs": [
    {
     "name": "stdout",
     "output_type": "stream",
     "text": [
      "Epoch 1/10\n",
      "29/28 [==============================] - 24s 837ms/step - loss: 3.2029 - accuracy: 0.1086 - val_loss: 3.1033 - val_accuracy: 0.1398\n",
      "Epoch 2/10\n",
      "29/28 [==============================] - 24s 819ms/step - loss: 2.6448 - accuracy: 0.2324 - val_loss: 2.7698 - val_accuracy: 0.2294\n",
      "Epoch 3/10\n",
      "29/28 [==============================] - 24s 825ms/step - loss: 2.1551 - accuracy: 0.3388 - val_loss: 2.1574 - val_accuracy: 0.3978\n",
      "Epoch 4/10\n",
      "29/28 [==============================] - 24s 820ms/step - loss: 1.8408 - accuracy: 0.4343 - val_loss: 1.9337 - val_accuracy: 0.4014\n",
      "Epoch 5/10\n",
      "29/28 [==============================] - 24s 820ms/step - loss: 1.5482 - accuracy: 0.5071 - val_loss: 1.6456 - val_accuracy: 0.4928\n",
      "Epoch 6/10\n",
      "29/28 [==============================] - 24s 823ms/step - loss: 1.4429 - accuracy: 0.5375 - val_loss: 1.7026 - val_accuracy: 0.4552\n",
      "Epoch 7/10\n",
      "29/28 [==============================] - 24s 829ms/step - loss: 1.2964 - accuracy: 0.5863 - val_loss: 1.3936 - val_accuracy: 0.5287\n",
      "Epoch 8/10\n",
      "29/28 [==============================] - 24s 828ms/step - loss: 1.1181 - accuracy: 0.6515 - val_loss: 1.4981 - val_accuracy: 0.4821\n",
      "Epoch 9/10\n",
      "29/28 [==============================] - 24s 832ms/step - loss: 1.0894 - accuracy: 0.6352 - val_loss: 1.2529 - val_accuracy: 0.5914\n",
      "Epoch 10/10\n",
      "29/28 [==============================] - 24s 834ms/step - loss: 1.0542 - accuracy: 0.6591 - val_loss: 1.3717 - val_accuracy: 0.5412\n"
     ]
    }
   ],
   "source": [
    "Model = cnn.fit_generator(\n",
    "    train_generator, \n",
    "    steps_per_epoch =train_generator.samples/train_generator.batch_size , \n",
    "    epochs=10, \n",
    "    validation_data = test_generator,\n",
    "    validation_steps = test_generator.samples/test_generator.batch_size,\n",
    "    verbose=1)"
   ]
  },
  {
   "cell_type": "code",
   "execution_count": 31,
   "metadata": {
    "colab": {
     "base_uri": "https://localhost:8080/",
     "height": 85
    },
    "id": "9p8yon7LboWo",
    "outputId": "bdf406a5-3c56-46d2-a6cc-9e10c1037243"
   },
   "outputs": [
    {
     "name": "stdout",
     "output_type": "stream",
     "text": [
      "Minimum loss 1.2529270648956299\n",
      "Maximum loss 3.1033236980438232\n",
      "Accuracy 0.6590662598609924\n",
      "Val_Accuracy 0.5913978219032288\n"
     ]
    }
   ],
   "source": [
    "# Model Evaluation\n",
    "\n",
    "print(\"Minimum loss\", min(Model.history['val_loss']))\n",
    "print(\"Maximum loss\", max(Model.history['val_loss']))\n",
    "print(\"Accuracy\", max(Model.history['accuracy']))\n",
    "print(\"Val_Accuracy\", max(Model.history['val_accuracy']))"
   ]
  },
  {
   "cell_type": "code",
   "execution_count": 32,
   "metadata": {
    "colab": {
     "base_uri": "https://localhost:8080/",
     "height": 204
    },
    "id": "EZeKx_asfmnz",
    "outputId": "b8be4f87-faf1-4a24-87cd-e452ba440858"
   },
   "outputs": [
    {
     "data": {
      "text/html": [
       "<div>\n",
       "<style scoped>\n",
       "    .dataframe tbody tr th:only-of-type {\n",
       "        vertical-align: middle;\n",
       "    }\n",
       "\n",
       "    .dataframe tbody tr th {\n",
       "        vertical-align: top;\n",
       "    }\n",
       "\n",
       "    .dataframe thead th {\n",
       "        text-align: right;\n",
       "    }\n",
       "</style>\n",
       "<table border=\"1\" class=\"dataframe\">\n",
       "  <thead>\n",
       "    <tr style=\"text-align: right;\">\n",
       "      <th></th>\n",
       "      <th>loss</th>\n",
       "      <th>accuracy</th>\n",
       "      <th>val_loss</th>\n",
       "      <th>val_accuracy</th>\n",
       "    </tr>\n",
       "  </thead>\n",
       "  <tbody>\n",
       "    <tr>\n",
       "      <th>0</th>\n",
       "      <td>3.202927</td>\n",
       "      <td>0.108578</td>\n",
       "      <td>3.103324</td>\n",
       "      <td>0.139785</td>\n",
       "    </tr>\n",
       "    <tr>\n",
       "      <th>1</th>\n",
       "      <td>2.644795</td>\n",
       "      <td>0.232356</td>\n",
       "      <td>2.769843</td>\n",
       "      <td>0.229391</td>\n",
       "    </tr>\n",
       "    <tr>\n",
       "      <th>2</th>\n",
       "      <td>2.155105</td>\n",
       "      <td>0.338762</td>\n",
       "      <td>2.157362</td>\n",
       "      <td>0.397849</td>\n",
       "    </tr>\n",
       "    <tr>\n",
       "      <th>3</th>\n",
       "      <td>1.840833</td>\n",
       "      <td>0.434311</td>\n",
       "      <td>1.933689</td>\n",
       "      <td>0.401434</td>\n",
       "    </tr>\n",
       "    <tr>\n",
       "      <th>4</th>\n",
       "      <td>1.548243</td>\n",
       "      <td>0.507058</td>\n",
       "      <td>1.645568</td>\n",
       "      <td>0.492832</td>\n",
       "    </tr>\n",
       "  </tbody>\n",
       "</table>\n",
       "</div>"
      ],
      "text/plain": [
       "       loss  accuracy  val_loss  val_accuracy\n",
       "0  3.202927  0.108578  3.103324      0.139785\n",
       "1  2.644795  0.232356  2.769843      0.229391\n",
       "2  2.155105  0.338762  2.157362      0.397849\n",
       "3  1.840833  0.434311  1.933689      0.401434\n",
       "4  1.548243  0.507058  1.645568      0.492832"
      ]
     },
     "execution_count": 32,
     "metadata": {
      "tags": []
     },
     "output_type": "execute_result"
    }
   ],
   "source": [
    "# Plot the accuracy and loss curves\n",
    "\n",
    "losses = pd.DataFrame(cnn.history.history)\n",
    "losses.head()"
   ]
  },
  {
   "cell_type": "code",
   "execution_count": 33,
   "metadata": {
    "colab": {
     "base_uri": "https://localhost:8080/",
     "height": 282
    },
    "id": "9YwlTeq1fZHr",
    "outputId": "cc108949-1de6-4947-fef7-59670a0a227e"
   },
   "outputs": [
    {
     "data": {
      "text/plain": [
       "<matplotlib.axes._subplots.AxesSubplot at 0x7f1506077fd0>"
      ]
     },
     "execution_count": 33,
     "metadata": {
      "tags": []
     },
     "output_type": "execute_result"
    },
    {
     "data": {
      "image/png": "[encoded data removed]",
      "text/plain": [
       "<Figure size 432x288 with 1 Axes>"
      ]
     },
     "metadata": {
      "needs_background": "light",
      "tags": []
     },
     "output_type": "display_data"
    }
   ],
   "source": [
    "losses[['accuracy','val_accuracy']].plot()"
   ]
  },
  {
   "cell_type": "code",
   "execution_count": 34,
   "metadata": {
    "colab": {
     "base_uri": "https://localhost:8080/",
     "height": 282
    },
    "id": "ty9AtQUUffMm",
    "outputId": "1f4a9695-cc2a-4ddc-fd91-f4101a91fef2"
   },
   "outputs": [
    {
     "data": {
      "text/plain": [
       "<matplotlib.axes._subplots.AxesSubplot at 0x7f14a8780588>"
      ]
     },
     "execution_count": 34,
     "metadata": {
      "tags": []
     },
     "output_type": "execute_result"
    },
    {
     "data": {
      "image/png": "[encoded data removed]",
      "text/plain": [
       "<Figure size 432x288 with 1 Axes>"
      ]
     },
     "metadata": {
      "needs_background": "light",
      "tags": []
     },
     "output_type": "display_data"
    }
   ],
   "source": [
    "losses[['loss','val_loss']].plot()"
   ]
  },
  {
   "cell_type": "markdown",
   "metadata": {
    "id": "5mNezKlBfyMk"
   },
   "source": []
  },
  {
   "cell_type": "markdown",
   "metadata": {
    "id": "un9mh6Kd8m1c"
   },
   "source": [
    "# Note:\n",
    "\n",
    "The dataset consist of Jena flower having 30 categories.\n",
    "\n",
    "The train data text file has 279 image data in the dataset while that of test data test has 921 image data in the dataset. \n",
    "\n",
    "Since its better to have training data more in quantity than test data, I have swapped the dataset between train and test.\n",
    "\n",
    "\n",
    "# Conclusion\n",
    "\n",
    "\n",
    "CNN Model is created using\n",
    "\n",
    "- flow_from_dataframe method for data preprocessing (where it takes dataframe and the path to a directory)\n",
    "\n",
    "\n",
    "- mix of padding techniques i.e. 'same' and 'valid' to have better training of the model and keeping the output shape in control\n",
    "\n",
    "\n",
    "- max pooling\n",
    "\n",
    "From the accuracy plot, it is observed that Train and Validation accuracy has been increasing throughout the epochs\n",
    "\n",
    "From the loss plot, it is observed that both the Training and validation errors are low.\n",
    "\n",
    "Overall the model is performing quite better than the baseline i.e. having accuracy of 59%"
   ]
  },
  {
   "cell_type": "code",
   "execution_count": null,
   "metadata": {},
   "outputs": [],
   "source": []
  }
 ],
 "metadata": {
  "accelerator": "GPU",
  "colab": {
   "collapsed_sections": [],
   "name": "Assignment2_part1.ipynb",
   "provenance": [],
   "toc_visible": true
  },
  "kernelspec": {
   "display_name": "Python 3",
   "language": "python",
   "name": "python3"
  },
  "language_info": {
   "codemirror_mode": {
    "name": "ipython",
    "version": 3
   },
   "file_extension": ".py",
   "mimetype": "text/x-python",
   "name": "python",
   "nbconvert_exporter": "python",
   "pygments_lexer": "ipython3",
   "version": "3.8.3"
  }
 },
 "nbformat": 4,
 "nbformat_minor": 1
}
