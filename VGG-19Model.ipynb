{
 "cells": [
  {
   "cell_type": "markdown",
   "metadata": {
    "id": "3L6bG2ndDpb9"
   },
   "source": []
  },
  {
   "cell_type": "code",
   "execution_count": 1,
   "metadata": {
    "colab": {
     "base_uri": "https://localhost:8080/",
     "height": 599
    },
    "id": "03Nv4RMjvK5u",
    "outputId": "08659042-57ae-424e-8fec-e90710e7f3ff"
   },
   "outputs": [
    {
     "name": "stdout",
     "output_type": "stream",
     "text": [
      "Collecting keras\n",
      "  Downloading https://files.pythonhosted.org/packages/44/e1/dc0757b20b56c980b5553c1b5c4c32d378c7055ab7bfa92006801ad359ab/Keras-2.4.3-py2.py3-none-any.whl\n",
      "Collecting numpy>=1.9.1\n",
      "\u001b[?25l  Downloading https://files.pythonhosted.org/packages/63/97/af8a92864a04bfa48f1b5c9b1f8bf2ccb2847f24530026f26dd223de4ca0/numpy-1.19.2-cp36-cp36m-manylinux2010_x86_64.whl (14.5MB)\n",
      "\u001b[K     |████████████████████████████████| 14.5MB 234kB/s \n",
      "\u001b[?25hCollecting h5py\n",
      "\u001b[?25l  Downloading https://files.pythonhosted.org/packages/60/06/cafdd44889200e5438b897388f3075b52a8ef01f28a17366d91de0fa2d05/h5py-2.10.0-cp36-cp36m-manylinux1_x86_64.whl (2.9MB)\n",
      "\u001b[K     |████████████████████████████████| 2.9MB 49.6MB/s \n",
      "\u001b[?25hCollecting scipy>=0.14\n",
      "\u001b[?25l  Downloading https://files.pythonhosted.org/packages/2b/a8/f4c66eb529bb252d50e83dbf2909c6502e2f857550f22571ed8556f62d95/scipy-1.5.2-cp36-cp36m-manylinux1_x86_64.whl (25.9MB)\n",
      "\u001b[K     |████████████████████████████████| 25.9MB 123kB/s \n",
      "\u001b[?25hCollecting pyyaml\n",
      "\u001b[?25l  Downloading https://files.pythonhosted.org/packages/64/c2/b80047c7ac2478f9501676c988a5411ed5572f35d1beff9cae07d321512c/PyYAML-5.3.1.tar.gz (269kB)\n",
      "\u001b[K     |████████████████████████████████| 276kB 53.2MB/s \n",
      "\u001b[?25hCollecting six\n",
      "  Downloading https://files.pythonhosted.org/packages/ee/ff/48bde5c0f013094d729fe4b0316ba2a24774b3ff1c52d924a8a4cb04078a/six-1.15.0-py2.py3-none-any.whl\n",
      "Building wheels for collected packages: pyyaml\n",
      "  Building wheel for pyyaml (setup.py) ... \u001b[?25l\u001b[?25hdone\n",
      "  Created wheel for pyyaml: filename=PyYAML-5.3.1-cp36-cp36m-linux_x86_64.whl size=44619 sha256=c6d73f85c5e1c3678168d5a97d800bf45b5607724d2286eb95cd12164c5147b3\n",
      "  Stored in directory: /root/.cache/pip/wheels/a7/c1/ea/cf5bd31012e735dc1dfea3131a2d5eae7978b251083d6247bd\n",
      "Successfully built pyyaml\n",
      "\u001b[31mERROR: tensorflow 2.3.0 has requirement numpy<1.19.0,>=1.16.0, but you'll have numpy 1.19.2 which is incompatible.\u001b[0m\n",
      "\u001b[31mERROR: tensorflow 2.3.0 has requirement scipy==1.4.1, but you'll have scipy 1.5.2 which is incompatible.\u001b[0m\n",
      "\u001b[31mERROR: nbclient 0.5.0 has requirement jupyter-client>=6.1.5, but you'll have jupyter-client 5.3.5 which is incompatible.\u001b[0m\n",
      "\u001b[31mERROR: datascience 0.10.6 has requirement folium==0.2.1, but you'll have folium 0.8.3 which is incompatible.\u001b[0m\n",
      "\u001b[31mERROR: albumentations 0.1.12 has requirement imgaug<0.2.7,>=0.2.5, but you'll have imgaug 0.2.9 which is incompatible.\u001b[0m\n",
      "Installing collected packages: numpy, six, h5py, scipy, pyyaml, keras\n",
      "Successfully installed h5py-2.10.0 keras-2.4.3 numpy-1.19.2 pyyaml-5.3.1 scipy-1.5.2 six-1.15.0\n"
     ]
    },
    {
     "data": {
      "application/vnd.colab-display-data+json": {
       "pip_warning": {
        "packages": [
         "six"
        ]
       }
      }
     },
     "metadata": {
      "tags": []
     },
     "output_type": "display_data"
    }
   ],
   "source": [
    "!pip install keras -tuner\n",
    "!pip install -q keras"
   ]
  },
  {
   "cell_type": "code",
   "execution_count": 2,
   "metadata": {
    "colab": {
     "base_uri": "https://localhost:8080/",
     "height": 238
    },
    "id": "DmClM_FsvNmd",
    "outputId": "3dbba451-78af-416d-90a7-94771d9653fa"
   },
   "outputs": [
    {
     "name": "stdout",
     "output_type": "stream",
     "text": [
      "Collecting gputil\n",
      "  Downloading https://files.pythonhosted.org/packages/ed/0e/5c61eedde9f6c87713e89d794f01e378cfd9565847d4576fa627d758c554/GPUtil-1.4.0.tar.gz\n",
      "Building wheels for collected packages: gputil\n",
      "  Building wheel for gputil (setup.py) ... \u001b[?25l\u001b[?25hdone\n",
      "  Created wheel for gputil: filename=GPUtil-1.4.0-cp36-none-any.whl size=7411 sha256=a31423622faaa48c0eb6f8a6fedfafbca24bf484333dc26823f6b3a7eda971b6\n",
      "  Stored in directory: /root/.cache/pip/wheels/3d/77/07/80562de4bb0786e5ea186911a2c831fdd0018bda69beab71fd\n",
      "Successfully built gputil\n",
      "Installing collected packages: gputil\n",
      "Successfully installed gputil-1.4.0\n",
      "Requirement already satisfied: psutil in /usr/local/lib/python3.6/dist-packages (5.4.8)\n",
      "Requirement already satisfied: humanize in /usr/local/lib/python3.6/dist-packages (0.5.1)\n",
      "Gen RAM Free: 12.8 GB  | Proc size: 115.0 MB\n",
      "GPU RAM Free: 15079MB | Used: 0MB | Util   0% | Total 15079MB\n"
     ]
    }
   ],
   "source": [
    "# memory footprint support libraries/code\n",
    "\n",
    "!ln -sf /opt/bin/nvidia-smi /usr/bin/nvidia-smi\n",
    "!pip install gputil\n",
    "!pip install psutil\n",
    "!pip install humanize\n",
    "import psutil\n",
    "import humanize\n",
    "import os\n",
    "import GPUtil as GPU\n",
    "GPUs = GPU.getGPUs()\n",
    "\n",
    "# XXX: only one GPU on Colab and isn’t guaranteed\n",
    "\n",
    "gpu = GPUs[0]\n",
    "def printm():\n",
    " process = psutil.Process(os.getpid())\n",
    " print(\"Gen RAM Free: \" + humanize.naturalsize( psutil.virtual_memory().available ), \" | Proc size: \" + humanize.naturalsize( process.memory_info().rss))\n",
    " print(\"GPU RAM Free: {0:.0f}MB | Used: {1:.0f}MB | Util {2:3.0f}% | Total {3:.0f}MB\".format(gpu.memoryFree, gpu.memoryUsed, gpu.memoryUtil*100, gpu.memoryTotal))\n",
    "printm() \n"
   ]
  },
  {
   "cell_type": "code",
   "execution_count": 3,
   "metadata": {
    "id": "Qwr2K-whvXQz"
   },
   "outputs": [],
   "source": [
    "#!ln -sf /opt/bin/nvidia-smi /usr/bin/nvidia-smi\n",
    "#!pip install gputil\n",
    "\n",
    "try:\n",
    "  import GPUtil as GPU\n",
    "  GPUs = GPU.getGPUs()\n",
    "  device='/gpu:0'\n",
    "except:\n",
    "  device='/cpu:0'"
   ]
  },
  {
   "cell_type": "code",
   "execution_count": 4,
   "metadata": {
    "colab": {
     "base_uri": "https://localhost:8080/",
     "height": 34
    },
    "id": "ixTmsXa_vo48",
    "outputId": "b6cc42e4-6b85-4646-9954-34ae4447843b"
   },
   "outputs": [
    {
     "name": "stdout",
     "output_type": "stream",
     "text": [
      "Found GPU at: /device:GPU:0\n"
     ]
    }
   ],
   "source": [
    "%tensorflow_version 2.x\n",
    "\n",
    "import tensorflow as tf\n",
    "\n",
    "device_name = tf.test.gpu_device_name()\n",
    "if device_name != '/device:GPU:0':\n",
    "  raise SystemError('GPU device not found')\n",
    "print('Found GPU at: {}'.format(device_name))"
   ]
  },
  {
   "cell_type": "code",
   "execution_count": 5,
   "metadata": {
    "colab": {
     "base_uri": "https://localhost:8080/",
     "height": 34
    },
    "id": "dDDPVOU4vuak",
    "outputId": "8d6deb17-0554-4e2e-8725-f968b990698e"
   },
   "outputs": [
    {
     "name": "stdout",
     "output_type": "stream",
     "text": [
      "Mounted at /content/drive\n"
     ]
    }
   ],
   "source": [
    "from google.colab import drive\n",
    "drive.mount('/content/drive')"
   ]
  },
  {
   "cell_type": "code",
   "execution_count": 7,
   "metadata": {
    "id": "H0lUBGC6vxzC"
   },
   "outputs": [],
   "source": [
    "# Import all libraries\n",
    "\n",
    "import os\n",
    "import shutil\n",
    "import pandas as pd\n",
    "import numpy as np\n",
    "import tensorflow as tf\n",
    "from tensorflow import keras\n",
    "import matplotlib.pyplot as plt\n",
    "from keras.preprocessing.image import ImageDataGenerator\n",
    "from sklearn.model_selection import train_test_split \n",
    "from tensorflow.keras.models import Sequential\n",
    "from tensorflow.keras.layers import Activation, Dropout, Flatten, Dense, Conv2D, MaxPooling2D\n",
    "from tensorflow.keras.callbacks import EarlyStopping\n",
    "from tensorflow.keras.layers import BatchNormalization\n",
    "from tensorflow.keras.applications import VGG19"
   ]
  },
  {
   "cell_type": "code",
   "execution_count": 8,
   "metadata": {
    "id": "ZwI02HcQw2vD"
   },
   "outputs": [],
   "source": [
    "# reading text files\n",
    "\n",
    "all_df = pd.read_csv(\"/content/drive/My Drive/JF30-22/classlabels.txt\", header = None, dtype=str)\n",
    "all_df.columns = ['id', 'label']\n",
    "#all_df.head(2)\n",
    "\n",
    "trn1 = pd.read_csv('/content/drive/My Drive/JF30-22/trn1.txt', header = None, dtype=str)\n",
    "trn1.columns = ['id']\n",
    "#trn1.head(2)\n",
    "\n",
    "val1 = pd.read_csv('/content/drive/My Drive/JF30-22/val1.txt', header = None, dtype=str)\n",
    "val1.columns = ['id']\n",
    "#trn1.head(2)\n",
    "\n",
    "tst1 = pd.read_csv('/content/drive/My Drive/JF30-22/tst1.txt', header = None, dtype=str)\n",
    "tst1.columns = ['id']\n",
    "#tst1.head(2)"
   ]
  },
  {
   "cell_type": "code",
   "execution_count": 9,
   "metadata": {
    "id": "SXsJHnUvz2Sf"
   },
   "outputs": [],
   "source": [
    "# merge data (id and label)\n",
    "\n",
    "train_data= pd.merge(all_df, trn1)\n",
    "val_data= pd.merge(all_df, val1)\n",
    "data = pd.merge(all_df, tst1)\n",
    "test_data = data.append(val_data)"
   ]
  },
  {
   "cell_type": "markdown",
   "metadata": {
    "id": "XMMYb6ExnOja"
   },
   "source": [
    "# VGG-19 Model"
   ]
  },
  {
   "cell_type": "code",
   "execution_count": 10,
   "metadata": {
    "id": "FS2OzJXxxsyU"
   },
   "outputs": [],
   "source": [
    "#Training data with augmentation\n",
    "\n",
    "train_datagen = ImageDataGenerator(\n",
    "      rescale=1./255,\n",
    "      rotation_range=20,\n",
    "      width_shift_range=0.10,\n",
    "      height_shift_range=0.10,\n",
    "      zoom_range = 0.1,\n",
    "      brightness_range=[0.2,0.8],\n",
    "     # np.clip(x_channel + np.random.uniform(-value, value), min_img, max_img) for x_channel in img,\n",
    "      horizontal_flip=True,\n",
    "      vertical_flip=True,\n",
    "      fill_mode='nearest')\n",
    "\n",
    "test_datagen = ImageDataGenerator(rescale=1./255)"
   ]
  },
  {
   "cell_type": "code",
   "execution_count": 11,
   "metadata": {
    "colab": {
     "base_uri": "https://localhost:8080/",
     "height": 51
    },
    "id": "oFvbPVzWy6ec",
    "outputId": "f75737b2-046b-4663-94db-9e485c2a415d"
   },
   "outputs": [
    {
     "name": "stdout",
     "output_type": "stream",
     "text": [
      "Found 921 validated image filenames belonging to 30 classes.\n",
      "Found 558 validated image filenames belonging to 30 classes.\n"
     ]
    }
   ],
   "source": [
    "# Data Generator for Validation Data\n",
    "\n",
    "train_generator = train_datagen.flow_from_dataframe(\n",
    "    dataframe = train_data, \n",
    "    directory=\"/content/drive/My Drive/JF30-22/train/\",\n",
    "    x_col=\"id\",\n",
    "    y_col=\"label\",\n",
    "    #subset=\"training\",\n",
    "    batch_size=32,\n",
    "    seed=42,\n",
    "    shuffle=True,\n",
    "    class_mode=\"categorical\",\n",
    "    target_size=(64,64))\n",
    "\n",
    "''' Data Generator for Validation Data\n",
    "\n",
    "val_generator = train_datagen.flow_from_dataframe(\n",
    "    dataframe = val_data, \n",
    "    directory=\"/content/drive/My Drive/JF30-22/valid/\",\n",
    "    x_col=\"id\",\n",
    "    y_col=\"label\",\n",
    "    #subset=\"validation\",\n",
    "    batch_size=32,\n",
    "    seed=42,\n",
    "    shuffle=True,\n",
    "    class_mode=\"categorical\",\n",
    "    target_size=(64,64))'''\n",
    "\n",
    "# Data Generator for Training Data\n",
    "\n",
    "test_generator = test_datagen.flow_from_dataframe(\n",
    "    dataframe = test_data, \n",
    "    directory=\"/content/drive/My Drive/JF30-22/test/\",\n",
    "    x_col=\"id\",\n",
    "    y_col=\"label\",\n",
    "    #subset=\"training\",\n",
    "    batch_size=32,\n",
    "    seed=42,\n",
    "    shuffle=True,\n",
    "    class_mode=\"categorical\",\n",
    "    target_size=(64,64))"
   ]
  },
  {
   "cell_type": "code",
   "execution_count": 19,
   "metadata": {
    "colab": {
     "base_uri": "https://localhost:8080/",
     "height": 459
    },
    "id": "hpM-4qNV5EQl",
    "outputId": "afbe646b-5bbc-40b4-c5b6-a67ef85207ca"
   },
   "outputs": [
    {
     "name": "stdout",
     "output_type": "stream",
     "text": [
      "Model: \"sequential_1\"\n",
      "_________________________________________________________________\n",
      "Layer (type)                 Output Shape              Param #   \n",
      "=================================================================\n",
      "vgg19 (Functional)           (None, 2, 2, 512)         20024384  \n",
      "_________________________________________________________________\n",
      "batch_normalization_3 (Batch (None, 2, 2, 512)         2048      \n",
      "_________________________________________________________________\n",
      "dropout_2 (Dropout)          (None, 2, 2, 512)         0         \n",
      "_________________________________________________________________\n",
      "flatten_1 (Flatten)          (None, 2048)              0         \n",
      "_________________________________________________________________\n",
      "batch_normalization_4 (Batch (None, 2048)              8192      \n",
      "_________________________________________________________________\n",
      "dense_2 (Dense)              (None, 128)               262272    \n",
      "_________________________________________________________________\n",
      "batch_normalization_5 (Batch (None, 128)               512       \n",
      "_________________________________________________________________\n",
      "dropout_3 (Dropout)          (None, 128)               0         \n",
      "_________________________________________________________________\n",
      "dense_3 (Dense)              (None, 30)                3870      \n",
      "=================================================================\n",
      "Total params: 20,301,278\n",
      "Trainable params: 7,350,942\n",
      "Non-trainable params: 12,950,336\n",
      "_________________________________________________________________\n"
     ]
    }
   ],
   "source": [
    "vgg_conv = VGG19(weights='imagenet', include_top=False, input_shape=(64,64,3))\n",
    "  \n",
    "for layer in vgg_conv.layers[:-4]:\n",
    "  layer.trainable = False\n",
    "\n",
    "model = Sequential()\n",
    "\n",
    "model.add(vgg_conv)\n",
    "model.add(BatchNormalization())\n",
    "model.add(Dropout(0.5))\n",
    "  \n",
    "model.add(Flatten())\n",
    "model.add(BatchNormalization())\n",
    "  \n",
    "model.add(Dense(128, activation='relu'))\n",
    "model.add(BatchNormalization())\n",
    "model.add(Dropout(0.5))\n",
    "  \n",
    "model.add(Dense(30, activation='softmax'))\n",
    "\n",
    "model.summary()"
   ]
  },
  {
   "cell_type": "code",
   "execution_count": 20,
   "metadata": {
    "colab": {
     "base_uri": "https://localhost:8080/",
     "height": 1000
    },
    "id": "h7ZZ21Ye5rOh",
    "outputId": "e584e259-671f-4172-9585-58a3b043782c"
   },
   "outputs": [
    {
     "name": "stdout",
     "output_type": "stream",
     "text": [
      "Epoch 1/50\n",
      "29/28 [==============================] - 27s 947ms/step - loss: 4.3697 - accuracy: 0.0413 - val_loss: 47.2140 - val_accuracy: 0.0358\n",
      "Epoch 2/50\n",
      "29/28 [==============================] - 27s 927ms/step - loss: 4.0129 - accuracy: 0.0760 - val_loss: 25.8303 - val_accuracy: 0.0358\n",
      "Epoch 3/50\n",
      "29/28 [==============================] - 27s 924ms/step - loss: 3.3388 - accuracy: 0.1314 - val_loss: 15.7256 - val_accuracy: 0.0645\n",
      "Epoch 4/50\n",
      "29/28 [==============================] - 27s 924ms/step - loss: 2.9743 - accuracy: 0.2085 - val_loss: 8.1884 - val_accuracy: 0.0789\n",
      "Epoch 5/50\n",
      "29/28 [==============================] - 27s 932ms/step - loss: 2.5350 - accuracy: 0.2660 - val_loss: 6.0453 - val_accuracy: 0.1147\n",
      "Epoch 6/50\n",
      "29/28 [==============================] - 27s 929ms/step - loss: 2.3066 - accuracy: 0.3062 - val_loss: 4.2143 - val_accuracy: 0.2563\n",
      "Epoch 7/50\n",
      "29/28 [==============================] - 27s 932ms/step - loss: 2.1367 - accuracy: 0.3561 - val_loss: 17.4839 - val_accuracy: 0.0358\n",
      "Epoch 8/50\n",
      "29/28 [==============================] - 27s 924ms/step - loss: 2.2262 - accuracy: 0.3377 - val_loss: 9.5069 - val_accuracy: 0.0896\n",
      "Epoch 9/50\n",
      "29/28 [==============================] - 26s 908ms/step - loss: 1.8987 - accuracy: 0.4126 - val_loss: 5.8684 - val_accuracy: 0.1720\n",
      "Epoch 10/50\n",
      "29/28 [==============================] - 26s 901ms/step - loss: 1.7425 - accuracy: 0.4376 - val_loss: 3.0679 - val_accuracy: 0.3638\n",
      "Epoch 11/50\n",
      "29/28 [==============================] - 26s 898ms/step - loss: 1.7215 - accuracy: 0.4495 - val_loss: 19.4199 - val_accuracy: 0.0556\n",
      "Epoch 12/50\n",
      "29/28 [==============================] - 26s 888ms/step - loss: 1.6562 - accuracy: 0.4701 - val_loss: 4.4362 - val_accuracy: 0.2366\n",
      "Epoch 13/50\n",
      "29/28 [==============================] - 25s 868ms/step - loss: 1.5566 - accuracy: 0.4995 - val_loss: 14.1180 - val_accuracy: 0.1362\n",
      "Epoch 14/50\n",
      "29/28 [==============================] - 25s 871ms/step - loss: 1.4515 - accuracy: 0.5147 - val_loss: 195.7296 - val_accuracy: 0.0341\n",
      "Epoch 15/50\n",
      "29/28 [==============================] - 25s 851ms/step - loss: 1.3784 - accuracy: 0.5407 - val_loss: 18.6954 - val_accuracy: 0.0681\n",
      "Epoch 16/50\n",
      "29/28 [==============================] - 25s 845ms/step - loss: 1.2541 - accuracy: 0.5950 - val_loss: 3.3497 - val_accuracy: 0.3387\n",
      "Epoch 17/50\n",
      "29/28 [==============================] - 25s 850ms/step - loss: 1.2573 - accuracy: 0.5613 - val_loss: 1.4983 - val_accuracy: 0.5717\n",
      "Epoch 18/50\n",
      "29/28 [==============================] - 24s 835ms/step - loss: 1.1576 - accuracy: 0.6015 - val_loss: 1.2509 - val_accuracy: 0.6272\n",
      "Epoch 19/50\n",
      "29/28 [==============================] - 24s 832ms/step - loss: 1.0662 - accuracy: 0.6428 - val_loss: 1.2279 - val_accuracy: 0.6470\n",
      "Epoch 20/50\n",
      "29/28 [==============================] - 25s 853ms/step - loss: 0.9929 - accuracy: 0.6688 - val_loss: 1.4436 - val_accuracy: 0.5573\n",
      "Epoch 21/50\n",
      "29/28 [==============================] - 24s 832ms/step - loss: 0.9848 - accuracy: 0.6808 - val_loss: 1.2658 - val_accuracy: 0.5968\n",
      "Epoch 22/50\n",
      "29/28 [==============================] - 24s 827ms/step - loss: 0.9657 - accuracy: 0.6971 - val_loss: 0.9625 - val_accuracy: 0.6882\n",
      "Epoch 23/50\n",
      "29/28 [==============================] - 24s 833ms/step - loss: 1.0611 - accuracy: 0.6515 - val_loss: 4.1359 - val_accuracy: 0.3513\n",
      "Epoch 24/50\n",
      "29/28 [==============================] - 25s 853ms/step - loss: 1.0214 - accuracy: 0.6569 - val_loss: 1.1958 - val_accuracy: 0.6201\n",
      "Epoch 25/50\n",
      "29/28 [==============================] - 24s 833ms/step - loss: 0.9377 - accuracy: 0.6895 - val_loss: 0.8428 - val_accuracy: 0.7312\n",
      "Epoch 26/50\n",
      "29/28 [==============================] - 24s 821ms/step - loss: 0.8969 - accuracy: 0.7090 - val_loss: 1.2023 - val_accuracy: 0.7204\n",
      "Epoch 27/50\n",
      "29/28 [==============================] - 24s 827ms/step - loss: 0.8197 - accuracy: 0.7329 - val_loss: 1.0084 - val_accuracy: 0.6810\n",
      "Epoch 28/50\n",
      "29/28 [==============================] - 24s 817ms/step - loss: 0.7947 - accuracy: 0.7275 - val_loss: 0.9146 - val_accuracy: 0.7097\n",
      "Epoch 29/50\n",
      "29/28 [==============================] - 24s 818ms/step - loss: 0.7698 - accuracy: 0.7470 - val_loss: 1.3945 - val_accuracy: 0.5914\n",
      "Epoch 30/50\n",
      "29/28 [==============================] - 24s 820ms/step - loss: 0.7618 - accuracy: 0.7448 - val_loss: 1.0633 - val_accuracy: 0.6470\n",
      "Epoch 31/50\n",
      "29/28 [==============================] - 24s 812ms/step - loss: 0.7202 - accuracy: 0.7557 - val_loss: 0.7683 - val_accuracy: 0.7599\n",
      "Epoch 32/50\n",
      "29/28 [==============================] - 24s 814ms/step - loss: 0.6749 - accuracy: 0.7828 - val_loss: 0.8833 - val_accuracy: 0.7079\n",
      "Epoch 33/50\n",
      "29/28 [==============================] - 24s 811ms/step - loss: 0.6763 - accuracy: 0.7785 - val_loss: 0.7161 - val_accuracy: 0.7724\n",
      "Epoch 34/50\n",
      "29/28 [==============================] - 24s 818ms/step - loss: 0.6518 - accuracy: 0.7991 - val_loss: 0.5853 - val_accuracy: 0.7939\n",
      "Epoch 35/50\n",
      "29/28 [==============================] - 24s 818ms/step - loss: 0.6437 - accuracy: 0.7980 - val_loss: 0.7949 - val_accuracy: 0.7455\n",
      "Epoch 36/50\n",
      "29/28 [==============================] - 24s 823ms/step - loss: 0.6384 - accuracy: 0.7763 - val_loss: 0.7850 - val_accuracy: 0.7437\n",
      "Epoch 37/50\n",
      "29/28 [==============================] - 24s 834ms/step - loss: 0.6500 - accuracy: 0.7904 - val_loss: 2.9497 - val_accuracy: 0.7007\n",
      "Epoch 38/50\n",
      "29/28 [==============================] - 24s 817ms/step - loss: 0.6563 - accuracy: 0.7970 - val_loss: 2.2397 - val_accuracy: 0.5968\n",
      "Epoch 39/50\n",
      "29/28 [==============================] - 24s 814ms/step - loss: 0.5698 - accuracy: 0.8143 - val_loss: 0.8856 - val_accuracy: 0.7616\n",
      "Epoch 40/50\n",
      "29/28 [==============================] - 24s 823ms/step - loss: 0.5498 - accuracy: 0.8328 - val_loss: 0.9608 - val_accuracy: 0.7670\n",
      "Epoch 41/50\n",
      "29/28 [==============================] - 24s 818ms/step - loss: 0.5598 - accuracy: 0.8230 - val_loss: 1.1295 - val_accuracy: 0.6595\n",
      "Epoch 42/50\n",
      "29/28 [==============================] - 24s 819ms/step - loss: 0.5553 - accuracy: 0.8132 - val_loss: 2.4955 - val_accuracy: 0.4749\n",
      "Epoch 43/50\n",
      "29/28 [==============================] - 24s 820ms/step - loss: 0.5249 - accuracy: 0.8230 - val_loss: 1.0107 - val_accuracy: 0.6918\n",
      "Epoch 44/50\n",
      "29/28 [==============================] - 24s 817ms/step - loss: 0.5481 - accuracy: 0.8317 - val_loss: 1.2274 - val_accuracy: 0.6667\n",
      "Epoch 45/50\n",
      "29/28 [==============================] - 24s 812ms/step - loss: 0.5658 - accuracy: 0.8056 - val_loss: 0.9164 - val_accuracy: 0.7509\n",
      "Epoch 46/50\n",
      "29/28 [==============================] - 24s 814ms/step - loss: 0.5240 - accuracy: 0.8306 - val_loss: 0.9278 - val_accuracy: 0.7688\n",
      "Epoch 47/50\n",
      "29/28 [==============================] - 24s 819ms/step - loss: 0.5079 - accuracy: 0.8350 - val_loss: 0.7851 - val_accuracy: 0.7634\n",
      "Epoch 48/50\n",
      "29/28 [==============================] - 24s 813ms/step - loss: 0.4982 - accuracy: 0.8230 - val_loss: 0.6035 - val_accuracy: 0.8118\n",
      "Epoch 49/50\n",
      "29/28 [==============================] - 24s 821ms/step - loss: 0.4854 - accuracy: 0.8350 - val_loss: 0.6774 - val_accuracy: 0.8118\n",
      "Epoch 50/50\n",
      "29/28 [==============================] - 24s 822ms/step - loss: 0.5479 - accuracy: 0.8198 - val_loss: 1.2371 - val_accuracy: 0.7115\n"
     ]
    }
   ],
   "source": [
    "model.compile(optimizer = 'adam', loss = 'categorical_crossentropy', metrics = ['accuracy'])\n",
    "#early_stop = EarlyStopping(monitor='val_loss',patience=5)\n",
    "Model = model.fit_generator(\n",
    "    train_generator, \n",
    "    steps_per_epoch =train_generator.samples/train_generator.batch_size , \n",
    "    epochs=50, \n",
    "    validation_data = test_generator,\n",
    "    validation_steps = test_generator.samples/test_generator.batch_size,\n",
    "    verbose=1)"
   ]
  },
  {
   "cell_type": "code",
   "execution_count": 21,
   "metadata": {
    "colab": {
     "base_uri": "https://localhost:8080/",
     "height": 85
    },
    "id": "9p8yon7LboWo",
    "outputId": "910f5b7e-ca45-45a0-cbd8-d40973231829"
   },
   "outputs": [
    {
     "name": "stdout",
     "output_type": "stream",
     "text": [
      "Minimum loss 0.5852563381195068\n",
      "Maximum loss 195.72964477539062\n",
      "Accuracy 0.834962010383606\n",
      "Val_Accuracy 0.8118279576301575\n"
     ]
    }
   ],
   "source": [
    "# Model Evaluation\n",
    "\n",
    "print(\"Minimum loss\", min(Model.history['val_loss']))\n",
    "print(\"Maximum loss\", max(Model.history['val_loss']))\n",
    "print(\"Accuracy\", max(Model.history['accuracy']))\n",
    "print(\"Val_Accuracy\", max(Model.history['val_accuracy']))"
   ]
  },
  {
   "cell_type": "code",
   "execution_count": 22,
   "metadata": {
    "colab": {
     "base_uri": "https://localhost:8080/",
     "height": 204
    },
    "id": "EZeKx_asfmnz",
    "outputId": "fb49b373-39f4-4c41-ac81-bd49cce8a821"
   },
   "outputs": [
    {
     "data": {
      "text/html": [
       "<div>\n",
       "<style scoped>\n",
       "    .dataframe tbody tr th:only-of-type {\n",
       "        vertical-align: middle;\n",
       "    }\n",
       "\n",
       "    .dataframe tbody tr th {\n",
       "        vertical-align: top;\n",
       "    }\n",
       "\n",
       "    .dataframe thead th {\n",
       "        text-align: right;\n",
       "    }\n",
       "</style>\n",
       "<table border=\"1\" class=\"dataframe\">\n",
       "  <thead>\n",
       "    <tr style=\"text-align: right;\">\n",
       "      <th></th>\n",
       "      <th>loss</th>\n",
       "      <th>accuracy</th>\n",
       "      <th>val_loss</th>\n",
       "      <th>val_accuracy</th>\n",
       "    </tr>\n",
       "  </thead>\n",
       "  <tbody>\n",
       "    <tr>\n",
       "      <th>0</th>\n",
       "      <td>4.369651</td>\n",
       "      <td>0.041260</td>\n",
       "      <td>47.214001</td>\n",
       "      <td>0.035842</td>\n",
       "    </tr>\n",
       "    <tr>\n",
       "      <th>1</th>\n",
       "      <td>4.012873</td>\n",
       "      <td>0.076004</td>\n",
       "      <td>25.830296</td>\n",
       "      <td>0.035842</td>\n",
       "    </tr>\n",
       "    <tr>\n",
       "      <th>2</th>\n",
       "      <td>3.338794</td>\n",
       "      <td>0.131379</td>\n",
       "      <td>15.725596</td>\n",
       "      <td>0.064516</td>\n",
       "    </tr>\n",
       "    <tr>\n",
       "      <th>3</th>\n",
       "      <td>2.974296</td>\n",
       "      <td>0.208469</td>\n",
       "      <td>8.188437</td>\n",
       "      <td>0.078853</td>\n",
       "    </tr>\n",
       "    <tr>\n",
       "      <th>4</th>\n",
       "      <td>2.535048</td>\n",
       "      <td>0.266015</td>\n",
       "      <td>6.045295</td>\n",
       "      <td>0.114695</td>\n",
       "    </tr>\n",
       "  </tbody>\n",
       "</table>\n",
       "</div>"
      ],
      "text/plain": [
       "       loss  accuracy   val_loss  val_accuracy\n",
       "0  4.369651  0.041260  47.214001      0.035842\n",
       "1  4.012873  0.076004  25.830296      0.035842\n",
       "2  3.338794  0.131379  15.725596      0.064516\n",
       "3  2.974296  0.208469   8.188437      0.078853\n",
       "4  2.535048  0.266015   6.045295      0.114695"
      ]
     },
     "execution_count": 22,
     "metadata": {
      "tags": []
     },
     "output_type": "execute_result"
    }
   ],
   "source": [
    "# Plot the accuracy and loss curves\n",
    "\n",
    "losses = pd.DataFrame(model.history.history)\n",
    "losses.head()"
   ]
  },
  {
   "cell_type": "code",
   "execution_count": 23,
   "metadata": {
    "colab": {
     "base_uri": "https://localhost:8080/",
     "height": 282
    },
    "id": "9YwlTeq1fZHr",
    "outputId": "9b452360-d747-4c77-e482-cc3fd6aa2995"
   },
   "outputs": [
    {
     "data": {
      "text/plain": [
       "<matplotlib.axes._subplots.AxesSubplot at 0x7f4cac2a21d0>"
      ]
     },
     "execution_count": 23,
     "metadata": {
      "tags": []
     },
     "output_type": "execute_result"
    },
    {
     "data": {
      "image/png": "[encoded data removed]",
      "text/plain": [
       "<Figure size 432x288 with 1 Axes>"
      ]
     },
     "metadata": {
      "needs_background": "light",
      "tags": []
     },
     "output_type": "display_data"
    }
   ],
   "source": [
    "losses[['accuracy','val_accuracy']].plot()"
   ]
  },
  {
   "cell_type": "code",
   "execution_count": 24,
   "metadata": {
    "colab": {
     "base_uri": "https://localhost:8080/",
     "height": 282
    },
    "id": "ty9AtQUUffMm",
    "outputId": "560520c5-ff1d-4ce7-9477-77195a03ad31"
   },
   "outputs": [
    {
     "data": {
      "text/plain": [
       "<matplotlib.axes._subplots.AxesSubplot at 0x7f4c9a6099e8>"
      ]
     },
     "execution_count": 24,
     "metadata": {
      "tags": []
     },
     "output_type": "execute_result"
    },
    {
     "data": {
      "image/png": "[encoded data removed]",
      "text/plain": [
       "<Figure size 432x288 with 1 Axes>"
      ]
     },
     "metadata": {
      "needs_background": "light",
      "tags": []
     },
     "output_type": "display_data"
    }
   ],
   "source": [
    "losses[['loss','val_loss']].plot()"
   ]
  },
  {
   "cell_type": "markdown",
   "metadata": {
    "id": "hYk4FC5bJ8VW"
   },
   "source": []
  },
  {
   "cell_type": "code",
   "execution_count": null,
   "metadata": {
    "id": "9o8ZC92SQv-7"
   },
   "outputs": [],
   "source": []
  },
  {
   "cell_type": "markdown",
   "metadata": {
    "id": "T7GFRcirQxDE"
   },
   "source": [
    "CNN Model is created using fine tuning of VGG19 Model\n",
    "\n",
    "In VGG19 model, only last 4 layers are made trainable\n",
    "\n",
    "FRom both the plots we can observe that there is lot of noise in the plot.\n",
    "\n",
    "From the Accuary plot, we can observe that Train and Validation accuracy has been increasing throughout the epochs. Training accuray reaches upto 83% whereas the validation accuracy is ~81%.\n",
    "\n",
    "From the Loss plot also we can see that there was initially high validation error but later it smoothen out.\n",
    "\n",
    "Overall this fine tuning model is performing very well with having accuracy of 81% which is really good as compared to the model we created fromscratch (having accuracy 59%)"
   ]
  },
  {
   "cell_type": "code",
   "execution_count": null,
   "metadata": {
    "id": "Oqxpv-XsGEh6"
   },
   "outputs": [],
   "source": []
  }
 ],
 "metadata": {
  "accelerator": "GPU",
  "colab": {
   "collapsed_sections": [],
   "name": "Assignment2_part2.ipynb",
   "provenance": [],
   "toc_visible": true
  },
  "kernelspec": {
   "display_name": "Python 3",
   "language": "python",
   "name": "python3"
  },
  "language_info": {
   "codemirror_mode": {
    "name": "ipython",
    "version": 3
   },
   "file_extension": ".py",
   "mimetype": "text/x-python",
   "name": "python",
   "nbconvert_exporter": "python",
   "pygments_lexer": "ipython3",
   "version": "3.8.3"
  }
 },
 "nbformat": 4,
 "nbformat_minor": 1
}
